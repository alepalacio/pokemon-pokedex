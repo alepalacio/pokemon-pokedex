{
  "nbformat": 4,
  "nbformat_minor": 0,
  "metadata": {
    "colab": {
      "provenance": [],
      "authorship_tag": "ABX9TyPgggp5yPedUTFHGJq8Gn/o",
      "include_colab_link": true
    },
    "kernelspec": {
      "name": "python3",
      "display_name": "Python 3"
    },
    "language_info": {
      "name": "python"
    }
  },
  "cells": [
    {
      "cell_type": "markdown",
      "metadata": {
        "id": "view-in-github",
        "colab_type": "text"
      },
      "source": [
        "<a href=\"https://colab.research.google.com/github/alepalacio/pokemon-pokedex/blob/main/Pokemon.ipynb\" target=\"_parent\"><img src=\"https://colab.research.google.com/assets/colab-badge.svg\" alt=\"Open In Colab\"/></a>"
      ]
    },
    {
      "cell_type": "code",
      "execution_count": 3,
      "metadata": {
        "id": "DRFHW54jsMhW"
      },
      "outputs": [],
      "source": [
        "import requests\n",
        "from bs4 import BeautifulSoup\n",
        "import pandas as pd"
      ]
    },
    {
      "cell_type": "code",
      "source": [
        "url = 'https://pokemondb.net/pokedex/all'\n",
        "r = requests.get(url)\n",
        "soup = BeautifulSoup(r.content, 'html.parser')\n",
        "soup"
      ],
      "metadata": {
        "id": "RdWCBJ7LtV76"
      },
      "execution_count": null,
      "outputs": []
    },
    {
      "cell_type": "code",
      "source": [
        "rows = soup.find('table', attrs={'id': 'pokedex'}).find('tbody').find_all('tr')"
      ],
      "metadata": {
        "id": "XrsxvaFCuLiD"
      },
      "execution_count": null,
      "outputs": []
    },
    {
      "cell_type": "code",
      "source": [
        "names = []\n",
        "types = []\n",
        "total = []\n",
        "hp = []\n",
        "for row in rows:\n",
        "  names.append(row.find_all('td')[1].get_text())\n",
        "  types.append(row.find_all('td')[2].get_text())\n",
        "  total.append(row.find_all('td')[3].get_text())\n",
        "  hp.append(row.find_all('td')[4].get_text())"
      ],
      "metadata": {
        "id": "DLAPgKtcv19B"
      },
      "execution_count": 27,
      "outputs": []
    },
    {
      "cell_type": "code",
      "source": [
        "df = pd.DataFrame({\n",
        "    'nombre': names,\n",
        "    'tipos': types,\n",
        "    'total': total,\n",
        "    'HP': hp\n",
        "})"
      ],
      "metadata": {
        "id": "Vc83nAijwJRA"
      },
      "execution_count": 30,
      "outputs": []
    },
    {
      "cell_type": "code",
      "source": [
        "df.to_csv('pokemons.csv')"
      ],
      "metadata": {
        "id": "ZsPP2zTVyJNf"
      },
      "execution_count": 32,
      "outputs": []
    }
  ]
}